{
 "cells": [
  {
   "cell_type": "markdown",
   "metadata": {},
   "source": [
    "# Cliche Monster\n",
    "## The orignal idea of this Notebook was to create a song based on LSTM RNN analysis\n",
    "## Including extra rhymic capability to force the last words in a line is an experiment.\n",
    "    - The first attempt will be with Soca Music as there is a preference for reusing terms in that genre\n",
    "    - The bag of words and word vectors will be based on the available corpus of soca lyrics on the internet\n",
    "    - The calypso genre will have more complex structures and can also be added as an option.\n",
    "    - I have installed phyme and will use that to test the rhyming capability.\n",
    "    - The rhyming concept will be to go backwards after a new line, and re-run  the last few words through the RNN until the last word is a rhyme with the previous line. A brute force method.\n",
    "    - the brute force method will also iterate amounst the rhyming forms (from perfect to consonant)\n",
    "    \n",
    "    1. I have just started this project.... the base ideas are going up... this is ground zero...."
   ]
  },
  {
   "cell_type": "code",
   "execution_count": null,
   "metadata": {},
   "outputs": [],
   "source": []
  },
  {
   "cell_type": "code",
   "execution_count": null,
   "metadata": {},
   "outputs": [],
   "source": []
  },
  {
   "cell_type": "code",
   "execution_count": null,
   "metadata": {},
   "outputs": [],
   "source": []
  },
  {
   "cell_type": "code",
   "execution_count": 2,
   "metadata": {},
   "outputs": [
    {
     "name": "stdout",
     "output_type": "stream",
     "text": [
      "Requirement already satisfied: phyme in /Users/markromany/opt/anaconda3/lib/python3.8/site-packages (0.0.9)\n",
      "Note: you may need to restart the kernel to use updated packages.\n"
     ]
    }
   ],
   "source": [
    "pip install phyme"
   ]
  },
  {
   "cell_type": "code",
   "execution_count": 3,
   "metadata": {},
   "outputs": [],
   "source": [
    "from Phyme import Phyme"
   ]
  },
  {
   "cell_type": "markdown",
   "metadata": {},
   "source": [
    "# Phyme\n",
    "Phyme is a Python rhyming dictionary for songwriting.\n",
    "\n",
    "Pronunciation is taken from [The CMU Pronouncing Dictionary](http://www.speech.cs.cmu.edu/cgi-bin/cmudict). Some background information on rhyming for songwriting can be found [here](http://songchops.com/2013/10/rhyme-families-your-secret-weapon/).\n",
    "\n",
    "To install Phyme, use `pip install phyme`\n",
    "\n",
    "By default, Phyme rhymes words based on the last stressed syllable or last stressed-unstressed pair of syllables. Passing in the `num_sylls=x` keyword arg will find rhymes with more syllables.\n",
    "\n",
    "Phyme supports 6 types of rhymes:  \n",
    "\n",
    "```\n",
    "from Phyme import Phyme\n",
    "\n",
    "ph = Phyme()\n",
    "\n",
    "# find perfect rhymes. DOG -> COG\n",
    "ph.get_perfect_rhymes(word, num_sylls=None)\n",
    "\n",
    "# find rhymes with the same vowels and consonants of the same type (fricative, plosive, etc) and voicing (voiced or unvoiced). FOB -> DOG\n",
    "ph.get_family_rhymes(word, num_sylls=None)\n",
    "\n",
    " # find rhymes with the same vowels and consonants of the same type, regardless of voicing. HAWK -> DOG\n",
    "ph.get_partner_rhymes(word)\n",
    "\n",
    "# find rhymes with the same vowels and consonants, as well as any extra consonants. DUDES -> DUES\n",
    "ph.get_additive_rhymes(word)\n",
    "\n",
    "# find rhymes with the same vowels and a subset of the same consonants. DUDE -> DO\n",
    "ph.get_subtractive_rhymes(word)  \n",
    "\n",
    "# find rhymes with the same vowels and some of the same consonants, with some swapped out for other consonants. FACTOR -> FASTER\n",
    "ph.get_substitution_rhymes(word) \n",
    "\n",
    "# find rhymes with the same vowels and arbitrary consonants. CASH -> CATS\n",
    "ph.get_assonance_rhymes(word)\n",
    "\n",
    "# find word that do not have the same vowels, but have the same consonants. CAT -> BOT\n",
    "ph.get_consonant_rhymes(word)\n",
    "```"
   ]
  },
  {
   "cell_type": "code",
   "execution_count": 4,
   "metadata": {},
   "outputs": [],
   "source": [
    "ph = Phyme()"
   ]
  },
  {
   "cell_type": "code",
   "execution_count": 7,
   "metadata": {},
   "outputs": [
    {
     "data": {
      "text/plain": [
       "{2: ['orange']}"
      ]
     },
     "execution_count": 7,
     "metadata": {},
     "output_type": "execute_result"
    }
   ],
   "source": [
    "ph.get_perfect_rhymes(\"orange\") # phyme testing"
   ]
  },
  {
   "cell_type": "code",
   "execution_count": null,
   "metadata": {},
   "outputs": [],
   "source": []
  },
  {
   "cell_type": "code",
   "execution_count": null,
   "metadata": {},
   "outputs": [],
   "source": []
  }
 ],
 "metadata": {
  "kernelspec": {
   "display_name": "Python 3",
   "language": "python",
   "name": "python3"
  },
  "language_info": {
   "codemirror_mode": {
    "name": "ipython",
    "version": 3
   },
   "file_extension": ".py",
   "mimetype": "text/x-python",
   "name": "python",
   "nbconvert_exporter": "python",
   "pygments_lexer": "ipython3",
   "version": "3.8.5"
  }
 },
 "nbformat": 4,
 "nbformat_minor": 4
}
